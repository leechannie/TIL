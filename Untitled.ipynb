{
 "cells": [
  {
   "cell_type": "code",
   "execution_count": 24,
   "metadata": {},
   "outputs": [
    {
     "name": "stdout",
     "output_type": "stream",
     "text": [
      "3.0\n",
      "5.0\n",
      "<class 'float'> <class 'float'> <class 'float'>\n",
      "삼각형의 세점은 : ( 1 1 ) ( 4 1 ) ( 1 5 )\n",
      "세점 사이의 거리는 :  3.0 5.0 4.0\n",
      "세점에 의한 삼각형의 면적은 :  6.0\n"
     ]
    }
   ],
   "source": [
    "import math\n",
    "\n",
    "def main():\n",
    "    \n",
    "#     x1, y1 = eval(input(\"첫 번째 점에 대한 x1과 y1을 입력하세요: \"))    \n",
    "#     x2, y2 = eval(input(\"두 번째 점에 대한 x2와 y2를 입력하세요: \"))   \n",
    "#     x3, y3 = eval(input(\"세 번째 점에 대한 x3와 y3를 입력하세요: \"))\n",
    "    x1=1\n",
    "    y1=1\n",
    "    x2=4\n",
    "    y2=1\n",
    "    x3=1\n",
    "    y3=5\n",
    "    \n",
    "    \n",
    "    dist1 = distance(x1,x2,y1,y2)\n",
    "    dist2 = distance(x2,x3,y2,y3)\n",
    "    dist3 = distance(x3,x1,y3,y1)\n",
    "    \n",
    "    print(dist1)\n",
    "    print(dist2)\n",
    "    \n",
    "    print(type(dist1),type(dist2),type(dist3))\n",
    "    \n",
    "    sortedNumbers(dist1,dist2,dist3)\n",
    "    getTriArea(dist1,dist2,dist3)\n",
    "    \n",
    "    \n",
    "    print(\"삼각형의 세점은 :\", \"(\",x1,y1,\")\", \"(\",x2,y2,\")\", \"(\",x3,y3,\")\" )\n",
    "    print(\"세점 사이의 거리는 : \", dist1,dist2,dist3)\n",
    "    print(\"세점에 의한 삼각형의 면적은 : \", getTriArea(dist1, dist2, dist3))\n",
    "\n",
    "    \n",
    "def distance(x1,x2,y1,y2) :\n",
    "\n",
    "    dist = math.sqrt((x1 - x2)**2 + (y1 - y2)**2)\n",
    "    return dist\n",
    "\n",
    "\n",
    "def sortedNumbers(dist1,dist2,dist3) :\n",
    "\n",
    "    if dist1 > dist2:\n",
    "        dist1,dist2 = dist2,dist1\n",
    "        if dist2 > dist3:\n",
    "            dist2,dist3 = dist3,dist2\n",
    "    elif dist2 > dist3:\n",
    "        dist2,dist3 = dist3,dist2\n",
    "        if dist1 > dist2:\n",
    "            dist1,dist2 = dist2,dist1\n",
    "    \n",
    "    return dist1,dist2,dist3    \n",
    "   \n",
    "def getTriArea(dist1,dist2,dist3) :\n",
    "    \n",
    "    s = (dist1+dist2+dist3)/2\n",
    "    area = (s*(s-dist1)*(s-dist2)*(s-dist3))**0.5\n",
    "    \n",
    "    return area\n",
    "    \n",
    "    \n",
    "main()"
   ]
  },
  {
   "cell_type": "code",
   "execution_count": null,
   "metadata": {},
   "outputs": [],
   "source": []
  },
  {
   "cell_type": "code",
   "execution_count": null,
   "metadata": {},
   "outputs": [],
   "source": []
  }
 ],
 "metadata": {
  "kernelspec": {
   "display_name": "Python 3",
   "language": "python",
   "name": "python3"
  },
  "language_info": {
   "codemirror_mode": {
    "name": "ipython",
    "version": 3
   },
   "file_extension": ".py",
   "mimetype": "text/x-python",
   "name": "python",
   "nbconvert_exporter": "python",
   "pygments_lexer": "ipython3",
   "version": "3.7.1"
  }
 },
 "nbformat": 4,
 "nbformat_minor": 2
}
