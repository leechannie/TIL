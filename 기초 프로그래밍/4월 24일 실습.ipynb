{
 "cells": [
  {
   "cell_type": "code",
   "execution_count": 3,
   "metadata": {
    "scrolled": true
   },
   "outputs": [
    {
     "name": "stdout",
     "output_type": "stream",
     "text": [
      "Input two numbers: \n",
      "7\n",
      "8\n",
      "Input operation: +\n",
      "Plus Result is 15\n"
     ]
    }
   ],
   "source": [
    "def my_plus(x, y):\n",
    "    return x + y\n",
    "def my_minus(x, y):\n",
    "    return x - y\n",
    "def my_mul(x, y):\n",
    "    return x * y\n",
    "def my_div(x, y):\n",
    "    return x / y\n",
    "\n",
    "def my_calculate(x,y,operate = ''+''):\n",
    "    if opcode == '-':\n",
    "        return my_minus(x,y)\n",
    "    elif opcode == '*':\n",
    "        return my_mul(x,y)\n",
    "    elif opcode == '/':\n",
    "        return my_div(x,y)\n",
    "    else:\n",
    "        return my_plus(x,y)\n",
    "    \n",
    "print ('Input two numbers: ')\n",
    "x = int(input()) \n",
    "y = int(input())\n",
    "opcode = input('Input operation: ')\n",
    "print('Plus Result is', my_calculate(x,y))"
   ]
  },
  {
   "cell_type": "code",
   "execution_count": null,
   "metadata": {},
   "outputs": [],
   "source": []
  }
 ],
 "metadata": {
  "kernelspec": {
   "display_name": "Python 3",
   "language": "python",
   "name": "python3"
  },
  "language_info": {
   "codemirror_mode": {
    "name": "ipython",
    "version": 3
   },
   "file_extension": ".py",
   "mimetype": "text/x-python",
   "name": "python",
   "nbconvert_exporter": "python",
   "pygments_lexer": "ipython3",
   "version": "3.7.1"
  }
 },
 "nbformat": 4,
 "nbformat_minor": 2
}
