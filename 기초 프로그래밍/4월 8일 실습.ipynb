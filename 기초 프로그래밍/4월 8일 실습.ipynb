{
 "cells": [
  {
   "cell_type": "code",
   "execution_count": null,
   "metadata": {},
   "outputs": [],
   "source": [
    "scores = [70,85,69,47,50,55,14,78,96,53]\n",
    "\n",
    "for score in scores:\n",
    "    if score < 70: \n",
    "        print(score, 'is fail')\n",
    "    else:\n",
    "        print(score, 'is pass')\n",
    "\n",
    "#scores라고 해야 list가 바뀌어도 괜찮음"
   ]
  },
  {
   "cell_type": "code",
   "execution_count": null,
   "metadata": {},
   "outputs": [],
   "source": [
    "scores = []\n",
    "\n",
    "while (1):\n",
    "    temp = input('Enter an interger: ')\n",
    "    if (temp !='EOF'):\n",
    "        scores.append(int(temp))\n",
    "    else: \n",
    "        break\n",
    "        \n",
    "for score in scores:\n",
    "    if score < 70: \n",
    "        print(score, 'is fail')\n",
    "    else:\n",
    "        print(score, 'is pass')"
   ]
  },
  {
   "cell_type": "code",
   "execution_count": null,
   "metadata": {},
   "outputs": [],
   "source": [
    "for i in range(1,10):\n",
    "    for x in  range(1,10):\n",
    "        print(i, '*', x, \"=\", i * x)"
   ]
  },
  {
   "cell_type": "code",
   "execution_count": null,
   "metadata": {},
   "outputs": [],
   "source": [
    "x = int(input(\"Enter a number: \"))\n",
    "ans = 0\n",
    "epsilon = 0.01\n",
    "low = 0\n",
    "high = max(1,x)\n",
    "ans = (high + low)/2\n",
    "\n",
    "while abs (ans**2-x) > epsilon:\n",
    "    print('high = ', high, 'low = ', low, 'ans =', ans)\n",
    "    if ans**2 > x:\n",
    "        high = ans\n",
    "    else:\n",
    "        low = ans\n",
    "    ans = (high + low)/2\n",
    "    \n",
    "print(ans, 'is a sqrt of', x)"
   ]
  },
  {
   "cell_type": "code",
   "execution_count": null,
   "metadata": {},
   "outputs": [],
   "source": [
    "x = int(input(\"Enter number: \"))\n",
    "\n",
    "y = x\n",
    "while (b != 0):\n",
    "\n",
    "print (a)\n",
    "print (b)"
   ]
  },
  {
   "cell_type": "code",
   "execution_count": 12,
   "metadata": {},
   "outputs": [
    {
     "name": "stdout",
     "output_type": "stream",
     "text": [
      "15\n"
     ]
    }
   ],
   "source": [
    "x = int(input())\n",
    "\n",
    "y = x\n",
    "while (y//8 == 0):\n",
    "    a = x//8\n",
    "    b = x% 8\n",
    "    print(a)\n",
    "    print(b)"
   ]
  },
  {
   "cell_type": "code",
   "execution_count": 8,
   "metadata": {},
   "outputs": [
    {
     "name": "stdout",
     "output_type": "stream",
     "text": [
      "15\n",
      "1\n",
      "7\n"
     ]
    }
   ],
   "source": [
    "x = int(input())\n",
    "\n",
    "a = x//8\n",
    "b = x% 8\n",
    "print(a)\n",
    "print(b)"
   ]
  }
 ],
 "metadata": {
  "kernelspec": {
   "display_name": "Python 3",
   "language": "python",
   "name": "python3"
  }
 },
 "nbformat": 4,
 "nbformat_minor": 2
}
