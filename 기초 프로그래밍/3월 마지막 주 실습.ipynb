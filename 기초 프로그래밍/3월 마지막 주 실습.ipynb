
{
 "cells": [
  {
   "cell_type": "code",
   "execution_count": 2,
   "metadata": {},
   "outputs": [
    {
     "name": "stdout",
     "output_type": "stream",
     "text": [
      "원하는 숫자를 입력하세요: 5\n",
      "원하는 숫자를 입력하세요: 4\n",
      "원하는 숫자를 입력하세요: 9\n",
      "입력한 숫자들의 합: \n",
      "18\n"
     ]
    }
   ],
   "source": [
    "sum = 0\n",
    "opt = 0\n",
    "while opt < 3:\n",
    "    us = input(\"원하는 숫자를 입력하세요: \")\n",
    "    sum += int(us)\n",
    "    opt += 1\n",
    "print(\"입력한 숫자들의 합: \")   \n",
    "print(sum)\n",
    "\n",
    "#[sum += int(user input)]  = [sum = sum+user input]"
   ]
  },
  {
   "cell_type": "code",
   "execution_count": 5,
   "metadata": {},
   "outputs": [
    {
     "name": "stdout",
     "output_type": "stream",
     "text": [
      "숫자 입력1\n",
      "숫자 입력5\n",
      "숫자 입력6\n",
      "숫자 입력7\n",
      "숫자 입력8\n",
      "숫자의 합\n",
      "27\n"
     ]
    }
   ],
   "source": [
    "sum = 0\n",
    "opt = 0\n",
    "while opt < 5: \n",
    "    us = input('숫자 입력')\n",
    "    sum += int(us)\n",
    "    opt += 1\n",
    "print(\"숫자의 합\")\n",
    "print(sum)"
   ]
  },
  {
   "cell_type": "code",
   "execution_count": 7,
   "metadata": {},
   "outputs": [
    {
     "name": "stdout",
     "output_type": "stream",
     "text": [
      "첫 번째 숫자를 입력하세요: 5\n",
      "두 번째 숫자를 입력하세요: 6\n",
      "입력한 두 수의 합: \n",
      "11\n"
     ]
    }
   ],
   "source": [
    "n1 = input('첫 번째 숫자를 입력하세요: ')\n",
    "n2 = input('두 번째 숫자를 입력하세요: ')\n",
    "print('입력한 두 수의 합: ')\n",
    "print(int(n1) + int(n2))"
   ]
  },
  {
   "cell_type": "code",
   "execution_count": 8,
   "metadata": {},
   "outputs": [
    {
     "name": "stdout",
     "output_type": "stream",
     "text": [
      "첫 번째 숫자를 입력하세요: 5\n"
     ]
    }
   ],
   "source": [
    "n1=input('첫 번째 숫자를 입력하세요: ')"
   ]
  },
  {
   "cell_type": "code",
   "execution_count": 9,
   "metadata": {},
   "outputs": [
    {
     "name": "stdout",
     "output_type": "stream",
     "text": [
      "원하는 숫자를 입력하세요: 1\n",
      "원하는 숫자를 입력하세요: 2\n",
      "원하는 숫자를 입력하세요: 3\n",
      "입력한 숫자들의 합: \n",
      "6\n"
     ]
    }
   ],
   "source": [
    "sum = 0\n",
    "opt = 0\n",
    "while opt < 3:\n",
    "    us = input(\"원하는 숫자를 입력하세요: \")\n",
    "    sum += int(us)\n",
    "    opt += 1\n",
    "print(\"입력한 숫자들의 합: \")   \n",
    "print(sum)"
   ]
  },
  {
   "cell_type": "code",
   "execution_count": 10,
   "metadata": {},
   "outputs": [
    {
     "name": "stdout",
     "output_type": "stream",
     "text": [
      "원하는 숫자를 입력하세요: 4\n",
      "원하는 숫자를 입력하세요: 5\n",
      "원하는 숫자를 입력하세요: 6\n",
      "입력한 숫자들의 합: \n",
      "15\n"
     ]
    }
   ],
   "source": [
    "sum = 0\n",
    "opt = 0\n",
    "while opt < 3:\n",
    "    us = input(\"원하는 숫자를 입력하세요: \")\n",
    "    sum += int(us)\n",
    "    opt += 1\n",
    "print(\"입력한 숫자들의 합: \")   \n",
    "print(sum)"
   ]
  },
  {
   "cell_type": "code",
   "execution_count": 11,
   "metadata": {},
   "outputs": [
    {
     "name": "stdout",
     "output_type": "stream",
     "text": [
      "숫자 입력4\n",
      "숫자 입력5\n",
      "숫자 입력6\n",
      "숫자 입력7\n",
      "숫자 입력8\n",
      "숫자의 합\n",
      "30\n"
     ]
    }
   ],
   "source": [
    "sum = 0\n",
    "opt = 0\n",
    "while opt < 5: \n",
    "    us = input('숫자 입력')\n",
    "    sum += int(us)\n",
    "    opt += 1\n",
    "print(\"숫자의 합\")\n",
    "print(sum)"
   ]
  },
  {
   "cell_type": "code",
   "execution_count": 12,
   "metadata": {},
   "outputs": [
    {
     "name": "stdout",
     "output_type": "stream",
     "text": [
      "숫자를 입력하세요: 5\n",
      "숫자를 입력하세요: 6\n",
      "입력한 두 수의 합:  11\n"
     ]
    }
   ],
   "source": [
    "i = 1\n",
    "sum = 0\n",
    "while (i < 3):\n",
    "    n = input('숫자를 입력하세요: ')\n",
    "    i += 1\n",
    "    sum += int(n)\n",
    "print('입력한 두 수의 합: ', sum)    "
   ]
  },
  {
   "cell_type": "code",
   "execution_count": 16,
   "metadata": {},
   "outputs": [
    {
     "name": "stdout",
     "output_type": "stream",
     "text": [
      "숫자 입력1\n",
      "숫자 입력5\n",
      "두 수의 합:  6\n"
     ]
    }
   ],
   "source": [
    "i = 1\n",
    "sum = 0\n",
    "while (i<3):\n",
    "    n = input('숫자 입력')\n",
    "    i += 1\n",
    "    sum += int(n)\n",
    "print('두 수의 합: ', sum)"
   ]
  },
  {
   "cell_type": "code",
   "execution_count": 23,
   "metadata": {},
   "outputs": [
    {
     "name": "stdout",
     "output_type": "stream",
     "text": [
      "첫 번째 숫자를 입력하세요: 4\n",
      "두 번째 숫자를 입력하세요: 5\n",
      "둘 중에 더 작은 수:  4\n"
     ]
    }
   ],
   "source": [
    "n1 = int(input(\"첫 번째 숫자를 입력하세요: \"))\n",
    "n2 = int(input(\"두 번째 숫자를 입력하세요: \"))\n",
    "if (n1 > n2): \n",
    "    print(\"둘 중에 더 작은 수: \", n2)\n",
    "elif (n1 < n2):\n",
    "    print(\"둘 중에 더 작은 수: \", n1)\n",
    "else:\n",
    "    print('두 수가 같다.')\n",
    "    \n",
    "\n",
    "# if 조건: ~~ / elif 조건: ~~/ else: ~~~ (else에는 조건을 달면 안 됌.) "
   ]
  },
  {
   "cell_type": "code",
   "execution_count": 5,
   "metadata": {},
   "outputs": [
    {
     "name": "stdout",
     "output_type": "stream",
     "text": [
      "숫자를 입력하시오: 5\n"
     ]
    },
    {
     "ename": "NameError",
     "evalue": "name 'intersleft' is not defined",
     "output_type": "error",
     "traceback": [
      "\u001b[1;31m---------------------------------------------------------------------------\u001b[0m",
      "\u001b[1;31mNameError\u001b[0m                                 Traceback (most recent call last)",
      "\u001b[1;32m<ipython-input-5-2c7620aa236b>\u001b[0m in \u001b[0;36m<module>\u001b[1;34m\u001b[0m\n\u001b[0;32m      3\u001b[0m \u001b[0mitersleft\u001b[0m \u001b[1;33m=\u001b[0m \u001b[0mabs\u001b[0m\u001b[1;33m(\u001b[0m\u001b[0mx\u001b[0m\u001b[1;33m)\u001b[0m\u001b[1;33m\u001b[0m\u001b[1;33m\u001b[0m\u001b[0m\n\u001b[0;32m      4\u001b[0m \u001b[1;31m#abs(절댓값)을 넣어서 음수를 넣어도 무한반복이 되지 않게 함.\u001b[0m\u001b[1;33m\u001b[0m\u001b[1;33m\u001b[0m\u001b[1;33m\u001b[0m\u001b[0m\n\u001b[1;32m----> 5\u001b[1;33m \u001b[1;32mwhile\u001b[0m \u001b[1;33m(\u001b[0m\u001b[0mintersleft\u001b[0m \u001b[1;33m!=\u001b[0m \u001b[1;36m0\u001b[0m\u001b[1;33m)\u001b[0m\u001b[1;33m:\u001b[0m\u001b[1;33m\u001b[0m\u001b[1;33m\u001b[0m\u001b[0m\n\u001b[0m\u001b[0;32m      6\u001b[0m     \u001b[1;32mif\u001b[0m\u001b[1;33m(\u001b[0m\u001b[0mx\u001b[0m\u001b[1;33m<\u001b[0m\u001b[1;36m0\u001b[0m\u001b[1;33m)\u001b[0m\u001b[1;33m:\u001b[0m\u001b[1;33m\u001b[0m\u001b[1;33m\u001b[0m\u001b[0m\n\u001b[0;32m      7\u001b[0m         \u001b[0mprint\u001b[0m\u001b[1;33m(\u001b[0m\u001b[1;34m\"잘 못된 입력입니다.\"\u001b[0m\u001b[1;33m)\u001b[0m\u001b[1;33m\u001b[0m\u001b[1;33m\u001b[0m\u001b[0m\n",
      "\u001b[1;31mNameError\u001b[0m: name 'intersleft' is not defined"
     ]
    }
   ],
   "source": [
    "x = int(input(\"숫자를 입력하시오: \"))\n",
    "ans = 0\n",
    "itersleft = abs(x) \n",
    "#abs(절댓값)을 넣어서 음수를 넣어도 무한반복이 되지 않게 함.\n",
    "while (intersleft != 0): \n",
    "    if(x<0):\n",
    "        print(\"잘 못된 입력입니다.\")\n",
    "        break  \n",
    "    else:\n",
    "        ans = ans + x\n",
    "        itersleft = iterleft - 1\n",
    "        print(\"답은 = \", ans)\n",
    "print(\"결과값 :\", ans)\n",
    "print(\"itersleft = \", itersleft)"
   ]
  },
  {
   "cell_type": "code",
   "execution_count": 4,
   "metadata": {},
   "outputs": [
    {
     "name": "stdout",
     "output_type": "stream",
     "text": [
      "반지름을 입력하세요: -3\n",
      "wrong number\n",
      "28.259999999999998\n"
     ]
    }
   ],
   "source": [
    "pi = 3.14\n",
    "r = 0\n",
    "r = int(input(\"반지름을 입력하세요: \"))\n",
    "ans = pi*r*r\n",
    "if (ans > 50):\n",
    "    print(\"Very Big Circle!\")\n",
    "elif r<0:\n",
    "    print(\"wrong number\")\n",
    "elif (ans < 50):\n",
    "    print(\"Normal Circle!\")\n",
    "print(ans)"
   ]
  }
 ],
 "metadata": {
  "kernelspec": {
   "display_name": "Python 3",
   "language": "python",
   "name": "python3"
  },
  "language_info": {
   "codemirror_mode": {
    "name": "ipython",
    "version": 3
   },
   "file_extension": ".py",
   "mimetype": "text/x-python",
   "name": "python",
   "nbconvert_exporter": "python",
   "pygments_lexer": "ipython3",
   "version": "3.7.1"
  }
 },
 "nbformat": 4,
 "nbformat_minor": 2
}
