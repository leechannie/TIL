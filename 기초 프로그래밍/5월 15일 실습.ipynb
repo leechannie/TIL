{
 "cells": [
  {
   "cell_type": "code",
   "execution_count": 1,
   "metadata": {},
   "outputs": [
    {
     "name": "stdout",
     "output_type": "stream",
     "text": [
      "Input name: 찬희\n",
      "Input student id: 1\n",
      "Input grade: 1\n",
      "Student(name='찬희', stdid=1, grade=1)\n"
     ]
    }
   ],
   "source": [
    "import collections\n",
    "\n",
    "Student = collections.namedtuple('Student','name stdid grade')\n",
    "name = input('Input name: ')\n",
    "studId = int(input('Input student id: '))\n",
    "grade = int(input('Input grade: '))\n",
    "\n",
    "std = Student(name = name, stdid = studId, grade = grade)\n",
    "print(std)"
   ]
  },
  {
   "cell_type": "code",
   "execution_count": null,
   "metadata": {},
   "outputs": [
    {
     "name": "stdout",
     "output_type": "stream",
     "text": [
      "Input loop count: 2\n",
      "Input name: 이차늫\n",
      "Input student id: 문자\n",
      "경고\n",
      "-------------------------\n",
      "Input student id: 문자예요\n",
      "경고\n",
      "-------------------------\n",
      "Input student id: 아노대\n",
      "경고\n",
      "-------------------------\n"
     ]
    }
   ],
   "source": [
    "import operator\n",
    "\n",
    "def idnum(x) :\n",
    "    ans = ''\n",
    "    for i in x :\n",
    "        if i in '0123456789' :\n",
    "            ans = ans + str(i)\n",
    "    return (ans)\n",
    "\n",
    "def grnum (x):\n",
    "    a = ''\n",
    "    for i in x:\n",
    "        if i in '1234':\n",
    "            a = a + str(i)\n",
    "    return (a)\n",
    "\n",
    "x = int(input('Input loop count: '))     \n",
    "L = []\n",
    "for i in range(x): \n",
    "    import collections\n",
    "\n",
    "    Student = collections.namedtuple('Student','name stdid grade')\n",
    "    name = input('Input name: ')\n",
    "    studId = input('Input student id: ')\n",
    "    ans = idnum(studId)\n",
    "    while len(ans) != 8 or ans == '':\n",
    "            print ('경고')\n",
    "            print ('-------------------------')\n",
    "            studId = input('Input student id: ')\n",
    "            ans= idnum(studId)\n",
    "    \n",
    "\n",
    "    grade = input('Input grade: ')\n",
    "    a = grnum(grade)\n",
    "    while len (a) != 1 or a == '':\n",
    "            print ('경고')\n",
    "            print ('-------------------------')\n",
    "            grade = input('Input grade: ')\n",
    "            a = grnum(grade)\n",
    "\n",
    "            \n",
    "    std = Student(name = name, stdid = studId, grade = grade)\n",
    "    L.append (std)\n",
    "\n",
    "L = sorted(L, key = operator.attrgetter('stdid'))\n",
    "print (L)"
   ]
  }
 ],
 "metadata": {
  "kernelspec": {
   "display_name": "Python 3",
   "language": "python",
   "name": "python3"
  },
  "language_info": {
   "codemirror_mode": {
    "name": "ipython",
    "version": 3
   },
   "file_extension": ".py",
   "mimetype": "text/x-python",
   "name": "python",
   "nbconvert_exporter": "python",
   "pygments_lexer": "ipython3",
   "version": "3.7.1"
  }
 },
 "nbformat": 4,
 "nbformat_minor": 2
}
